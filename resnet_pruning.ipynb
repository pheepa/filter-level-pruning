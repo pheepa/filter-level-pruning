{
  "nbformat": 4,
  "nbformat_minor": 0,
  "metadata": {
    "colab": {
      "name": "resnet_pruning.ipynb",
      "provenance": [],
      "authorship_tag": "ABX9TyNuyLArlBoqLKoVmmyYcFpT"
    },
    "kernelspec": {
      "name": "python3",
      "display_name": "Python 3"
    }
  },
  "cells": [
    {
      "cell_type": "code",
      "metadata": {
        "id": "RECCq_uZ5D-d"
      },
      "source": [
        ""
      ],
      "execution_count": null,
      "outputs": []
    }
  ]
}